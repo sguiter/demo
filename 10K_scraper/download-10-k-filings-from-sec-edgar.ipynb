{
  "cells": [
    {
      "cell_type": "markdown",
      "metadata": {
        "colab_type": "text",
        "id": "view-in-github"
      },
      "source": [
        "<a href=\"https://colab.research.google.com/gist/janlukasschroeder/856848c3666f9688a011b3a77516aefb/download-10-k-filings-from-sec-edgar.ipynb\" target=\"_parent\"><img src=\"https://colab.research.google.com/assets/colab-badge.svg\" alt=\"Open In Colab\"/></a>"
      ]
    },
    {
      "cell_type": "markdown",
      "metadata": {
        "id": "IHxXqQzUZXtn"
      },
      "source": [
        "# How to download and scrape 10-K filings from SEC EDGAR\n",
        "\n",
        "This tutorial shows how to download and scrape 10-K filings from SEC EDGAR to your local disk. We use Python 3 and the SEC-API.io Python package to help us find the links to all 10-K filings on EDGAR and then download them.\n",
        "\n",
        "Our SEC filings download application will be structured into two components:\n",
        "1. The first component of our Python application finds all URLs of  10-K filings on EDGAR filed between 1995 and 2022. We also consider older 10-K variants, that is 10-KT, 10KSB, 10KT405, 10KSB40, 10-K405. Our application also includes all amended/changed filings, for example 10-K/A. Once we generated a complete list of all URLs of 10-K filings, we're going to save the list to a file to our hard disk.\n",
        "2. The second component reads the URLs from the file, and downloads all annual reports. We download up to 30 filings in parallel using the Render API of the SEC-API package and use Pythons multiprocessing package to speed up the download process."
      ]
    },
    {
      "cell_type": "markdown",
      "metadata": {
        "id": "tU1PVqjVcaS1"
      },
      "source": [
        "# Getting Started\n",
        "\n",
        "Let's starts by installing the SEC-API Python package.\n",
        "\n"
      ]
    },
    {
      "cell_type": "code",
      "execution_count": null,
      "metadata": {
        "id": "gggSuJM1ZTYx"
      },
      "outputs": [],
      "source": [
        "#pip install sec-api"
      ]
    },
    {
      "cell_type": "markdown",
      "metadata": {
        "id": "-tSkdpSRtlx1"
      },
      "source": [
        "Head over to https://sec-api.io to get your free API key so that we can start searching the SEC EDGAR database for 10-K filings."
      ]
    },
    {
      "cell_type": "code",
      "execution_count": 2,
      "metadata": {
        "id": "dDualZwtcWlu"
      },
      "outputs": [],
      "source": [
        "from sec_api import QueryApi\n",
        "\n",
        "queryApi = QueryApi(api_key=\"YOUR_API_KEY\")"
      ]
    },
    {
      "cell_type": "markdown",
      "metadata": {
        "id": "IPTpJCUudARc"
      },
      "source": [
        "The Query API is a search interface allowing us to search and find SEC filings across the entire EDGAR database by any filing meta data parameter. For example, we can find all filings filed by Microsoft using a ticker search (ticker:MSFT) or build more complex search expressions using boolean and brackets operators. The Query API returns the meta data of SEC filings matching the search query, such as filer details (e.g. ticker and company name), URLs to the filing and all exhibits, filing date, form type and more.\n",
        "\n",
        "We're looking for all filings with form type 10-K and its variants: 10-KT, 10KSB, 10KT405, 10KSB40, 10-K405. So, the Query API form type filter comes in handy.\n",
        "\n",
        "The search query string looks like this:\n",
        "\n",
        "```txt\n",
        "formType:(\"10-K\", \"10-KT\", \"10KSB\", \"10KT405\", \"10KSB40\", \"10-K405\")\n",
        "```\n",
        "\n",
        "The brackets tell the Query API to include a filing in the response if the form type is either 10-K, or 10-KT, or 10KSB, and so on.\n",
        "\n",
        "Let's start off by finding the most recently filed 10-K filing."
      ]
    },
    {
      "cell_type": "code",
      "execution_count": 9,
      "metadata": {
        "id": "TZ0ljM4ac_kS"
      },
      "outputs": [],
      "source": [
        "query = {\n",
        "  \"query\": { \"query_string\": { \n",
        "      \"query\": \"formType:\\\"10-K\\\" AND ticker:TSLA\", # only 10-Ks\n",
        "  }},\n",
        "  \"from\": \"0\", # start returning matches from position null, i.e. the first matching filing \n",
        "  \"size\": \"1\"  # return just one filing\n",
        "}\n",
        "\n",
        "response = queryApi.get_filings(query)"
      ]
    },
    {
      "cell_type": "markdown",
      "metadata": {
        "id": "hm59MbDUjAcw"
      },
      "source": [
        "The response of the Query API package in Python represents a dictionary (short: dict) with two keys: `total` and `filings`.\n",
        "\n",
        "The value of `total` is a dict itself and tells us, among other things, how many filings in total match our search query. The value of `filings` is a list of dicts, where each dict represents all meta data of a matching filing.\n",
        "\n",
        "We use the `json` Python package to pretty-print the first filing to the console to explore the structure of a filing dict."
      ]
    },
    {
      "cell_type": "code",
      "execution_count": 10,
      "metadata": {
        "colab": {
          "base_uri": "https://localhost:8080/"
        },
        "id": "KUQ73wnhc8K2",
        "outputId": "7ab9e79f-d7c8-40f9-b6fe-439777d39349"
      },
      "outputs": [
        {
          "name": "stdout",
          "output_type": "stream",
          "text": [
            "{\n",
            "  \"ticker\": \"TSLA\",\n",
            "  \"formType\": \"10-K\",\n",
            "  \"accessionNo\": \"0001193125-14-069681\",\n",
            "  \"cik\": \"1318605\",\n",
            "  \"companyNameLong\": \"TESLA MOTORS INC (Filer)\",\n",
            "  \"companyName\": \"TESLA MOTORS INC\",\n",
            "  \"linkToFilingDetails\": \"https://www.sec.gov/Archives/edgar/data/1318605/000119312514069681/d668062d10k.htm\",\n",
            "  \"description\": \"Form 10-K - Annual report [Section 13 and 15(d), not S-K Item 405]\",\n",
            "  \"linkToTxt\": \"https://www.sec.gov/Archives/edgar/data/1318605/000119312514069681/0001193125-14-069681.txt\",\n",
            "  \"filedAt\": \"2014-02-26T16:02:51-05:00\",\n",
            "  \"documentFormatFiles\": [\n",
            "    {\n",
            "      \"sequence\": \"1\",\n",
            "      \"size\": \"1589148\",\n",
            "      \"documentUrl\": \"https://www.sec.gov/Archives/edgar/data/1318605/000119312514069681/d668062d10k.htm\",\n",
            "      \"description\": \"10-K\",\n",
            "      \"type\": \"10-K\"\n",
            "    },\n",
            "    {\n",
            "      \"sequence\": \"2\",\n",
            "      \"size\": \"71602\",\n",
            "      \"documentUrl\": \"https://www.sec.gov/Archives/edgar/data/1318605/000119312514069681/d668062dex1035a.htm\",\n",
            "      \"description\": \"EX-10.35A\",\n",
            "      \"type\": \"EX-10.35A\"\n",
            "    },\n",
            "    {\n",
            "      \"sequence\": \"3\",\n",
            "      \"size\": \"4605\",\n",
            "      \"documentUrl\": \"https://www.sec.gov/Archives/edgar/data/1318605/000119312514069681/d668062dex121.htm\",\n",
            "      \"description\": \"EX-12.1\",\n",
            "      \"type\": \"EX-12.1\"\n",
            "    },\n",
            "    {\n",
            "      \"sequence\": \"4\",\n",
            "      \"size\": \"1532\",\n",
            "      \"documentUrl\": \"https://www.sec.gov/Archives/edgar/data/1318605/000119312514069681/d668062dex231.htm\",\n",
            "      \"description\": \"EX-23.1\",\n",
            "      \"type\": \"EX-23.1\"\n",
            "    },\n",
            "    {\n",
            "      \"sequence\": \"5\",\n",
            "      \"size\": \"9385\",\n",
            "      \"documentUrl\": \"https://www.sec.gov/Archives/edgar/data/1318605/000119312514069681/d668062dex311.htm\",\n",
            "      \"description\": \"EX-31.1\",\n",
            "      \"type\": \"EX-31.1\"\n",
            "    },\n",
            "    {\n",
            "      \"sequence\": \"6\",\n",
            "      \"size\": \"9394\",\n",
            "      \"documentUrl\": \"https://www.sec.gov/Archives/edgar/data/1318605/000119312514069681/d668062dex312.htm\",\n",
            "      \"description\": \"EX-31.2\",\n",
            "      \"type\": \"EX-31.2\"\n",
            "    },\n",
            "    {\n",
            "      \"sequence\": \"7\",\n",
            "      \"size\": \"5753\",\n",
            "      \"documentUrl\": \"https://www.sec.gov/Archives/edgar/data/1318605/000119312514069681/d668062dex321.htm\",\n",
            "      \"description\": \"EX-32.1\",\n",
            "      \"type\": \"EX-32.1\"\n",
            "    },\n",
            "    {\n",
            "      \"sequence\": \"14\",\n",
            "      \"size\": \"57153\",\n",
            "      \"documentUrl\": \"https://www.sec.gov/Archives/edgar/data/1318605/000119312514069681/g668062g78n59.jpg\",\n",
            "      \"description\": \"GRAPHIC\",\n",
            "      \"type\": \"GRAPHIC\"\n",
            "    },\n",
            "    {\n",
            "      \"sequence\": \"15\",\n",
            "      \"size\": \"6611\",\n",
            "      \"documentUrl\": \"https://www.sec.gov/Archives/edgar/data/1318605/000119312514069681/g668062img001.jpg\",\n",
            "      \"description\": \"GRAPHIC\",\n",
            "      \"type\": \"GRAPHIC\"\n",
            "    },\n",
            "    {\n",
            "      \"sequence\": \"\\u00a0\",\n",
            "      \"size\": \"10618517\",\n",
            "      \"documentUrl\": \"https://www.sec.gov/Archives/edgar/data/1318605/000119312514069681/0001193125-14-069681.txt\",\n",
            "      \"description\": \"Complete submission text file\",\n",
            "      \"type\": \"\\u00a0\"\n",
            "    }\n",
            "  ],\n",
            "  \"periodOfReport\": \"2013-12-31\",\n",
            "  \"entities\": [\n",
            "    {\n",
            "      \"fiscalYearEnd\": \"1231\",\n",
            "      \"stateOfIncorporation\": \"DE\",\n",
            "      \"act\": \"34\",\n",
            "      \"cik\": \"1318605\",\n",
            "      \"fileNo\": \"001-34756\",\n",
            "      \"irsNo\": \"912197729\",\n",
            "      \"companyName\": \"TESLA MOTORS INC (Filer)\",\n",
            "      \"type\": \"10-K\",\n",
            "      \"sic\": \"3711 Motor Vehicles &amp; Passenger Car Bodies\",\n",
            "      \"filmNo\": \"14644610\"\n",
            "    }\n",
            "  ],\n",
            "  \"id\": \"310203def96769445e593d2f3d0985d1\",\n",
            "  \"seriesAndClassesContractsInformation\": [],\n",
            "  \"linkToHtml\": \"https://www.sec.gov/Archives/edgar/data/1318605/0001193125-14-069681-index.htm\",\n",
            "  \"linkToXbrl\": \"\",\n",
            "  \"dataFiles\": [\n",
            "    {\n",
            "      \"sequence\": \"8\",\n",
            "      \"size\": \"1600452\",\n",
            "      \"documentUrl\": \"https://www.sec.gov/Archives/edgar/data/1318605/000119312514069681/tsla-20131231.xml\",\n",
            "      \"description\": \"XBRL INSTANCE DOCUMENT\",\n",
            "      \"type\": \"EX-101.INS\"\n",
            "    },\n",
            "    {\n",
            "      \"sequence\": \"9\",\n",
            "      \"size\": \"87227\",\n",
            "      \"documentUrl\": \"https://www.sec.gov/Archives/edgar/data/1318605/000119312514069681/tsla-20131231.xsd\",\n",
            "      \"description\": \"XBRL TAXONOMY EXTENSION SCHEMA\",\n",
            "      \"type\": \"EX-101.SCH\"\n",
            "    },\n",
            "    {\n",
            "      \"sequence\": \"10\",\n",
            "      \"size\": \"110361\",\n",
            "      \"documentUrl\": \"https://www.sec.gov/Archives/edgar/data/1318605/000119312514069681/tsla-20131231_cal.xml\",\n",
            "      \"description\": \"XBRL TAXONOMY EXTENSION CALCULATION LINKBASE\",\n",
            "      \"type\": \"EX-101.CAL\"\n",
            "    },\n",
            "    {\n",
            "      \"sequence\": \"11\",\n",
            "      \"size\": \"283193\",\n",
            "      \"documentUrl\": \"https://www.sec.gov/Archives/edgar/data/1318605/000119312514069681/tsla-20131231_def.xml\",\n",
            "      \"description\": \"XBRL TAXONOMY EXTENSION DEFINITION LINKBASE\",\n",
            "      \"type\": \"EX-101.DEF\"\n",
            "    },\n",
            "    {\n",
            "      \"sequence\": \"12\",\n",
            "      \"size\": \"721411\",\n",
            "      \"documentUrl\": \"https://www.sec.gov/Archives/edgar/data/1318605/000119312514069681/tsla-20131231_lab.xml\",\n",
            "      \"description\": \"XBRL TAXONOMY EXTENSION LABEL LINKBASE\",\n",
            "      \"type\": \"EX-101.LAB\"\n",
            "    },\n",
            "    {\n",
            "      \"sequence\": \"13\",\n",
            "      \"size\": \"489907\",\n",
            "      \"documentUrl\": \"https://www.sec.gov/Archives/edgar/data/1318605/000119312514069681/tsla-20131231_pre.xml\",\n",
            "      \"description\": \"XBRL TAXONOMY EXTENSION PRESENTATION LINKBASE\",\n",
            "      \"type\": \"EX-101.PRE\"\n",
            "    }\n",
            "  ]\n",
            "}\n"
          ]
        }
      ],
      "source": [
        "import json \n",
        "print(json.dumps(response[\"filings\"][0], indent=2))"
      ]
    },
    {
      "cell_type": "markdown",
      "metadata": {
        "id": "vfV1UwW8lI9h"
      },
      "source": [
        "The URL of the 10-K filing is the value of the `linkToFilingDetails` key in each filing dict, for example:\n",
        "https://www.sec.gov/Archives/edgar/data/1318605/000119312514069681/d668062d10k.htm\n",
        "\n",
        "We see that information such as the filer ticker and CIK, company name, and all links and types of filing attachements (e.g. XBRL) is included as well. If you were to download, let's say, XBRL attachements of 10-K filings, you would be able to use the same approach we implement here.\n",
        "\n",
        "In order to for us to generate a complete list of 10-K URLs, we simply iterate over all filing dicts, read the `linkToFilingDetails` value and write the URL to a local file.\n",
        "\n",
        "One more thing: the Query API returns a maximum of 200 filings per search request and a maximum of 10,000 filings per search universe. That's why we paginate over the search results, i.e. we request the first \"page\" of matches with 200 filings, then the second \"page\", and so on, until we iterated through all filings filed between 1995 and 2022. "
      ]
    },
    {
      "cell_type": "markdown",
      "metadata": {
        "id": "Fv8ZjyY6tIC7"
      },
      "source": [
        "# 1. Generate list of URLs of all 10-K filings\n",
        "\n",
        "This chapter implements the first of our two components and explains how to generate the list of 10-K URLs and save the list to a file.\n",
        "\n",
        "The following `base_query` is reused and updated for each request allowing us to page through all results in the next part of the code. "
      ]
    },
    {
      "cell_type": "code",
      "execution_count": 11,
      "metadata": {
        "id": "LdvdWbahfFJ1"
      },
      "outputs": [],
      "source": [
        "base_query = {\n",
        "  \"query\": { \n",
        "      \"query_string\": { \n",
        "          \"query\": \"PLACEHOLDER\", # this will be set during runtime \n",
        "          \"time_zone\": \"America/New_York\"\n",
        "      } \n",
        "  },\n",
        "  \"from\": \"0\",\n",
        "  \"size\": \"200\", # dont change this\n",
        "  # sort returned filings by the filedAt key/value\n",
        "  \"sort\": [{ \"filedAt\": { \"order\": \"desc\" } }]\n",
        "}"
      ]
    },
    {
      "cell_type": "markdown",
      "metadata": {
        "id": "3zNokIIgpfbl"
      },
      "source": [
        "On each search request, the `PLACEHOLDER` in the `base_query` is replaced with our form type filter and with a date range filter. The complete Python code for downloading all URLs of filings filed between 1995 and 2022 is shown and explained below.\n",
        "\n",
        "> Be aware that it takes some time to download and save all URLs. Plan at least 30 minutes for running your application without interruption. \n",
        "\n",
        "The URL downloader appends a new URL to the log file `filing_urls.txt` on each processing iteration. In case you accidentally shut down your application, you can start off from the most recently processed year without having to download already processed URLs again.\n",
        "\n",
        "> Uncomment the two lines in your code if you want to generate all URLs at once. I deliberately uncommented them to provide a quick running example of the entire code without having to wait 30+ minutes to see results. \n",
        "- `for year in range(2021, 1994, -1):` and \n",
        "- `for from_batch in range(0, 9800, 200):` \n"
      ]
    },
    {
      "cell_type": "code",
      "execution_count": 15,
      "metadata": {
        "colab": {
          "base_uri": "https://localhost:8080/"
        },
        "id": "JZkMHt9mpfx9",
        "outputId": "2d5e0d85-2a70-4f40-f704-ee176b08c4d2"
      },
      "outputs": [
        {
          "name": "stdout",
          "output_type": "stream",
          "text": [
            "Starting download for year 2022\n",
            "Filing URLs downloaded for 2022-01\n",
            "Filing URLs downloaded for 2022-02\n",
            "Filing URLs downloaded for 2022-03\n",
            "Filing URLs downloaded for 2022-04\n",
            "Filing URLs downloaded for 2022-05\n",
            "Filing URLs downloaded for 2022-06\n",
            "Filing URLs downloaded for 2022-07\n",
            "Filing URLs downloaded for 2022-08\n",
            "Filing URLs downloaded for 2022-09\n",
            "Filing URLs downloaded for 2022-10\n",
            "Filing URLs downloaded for 2022-11\n",
            "Filing URLs downloaded for 2022-12\n",
            "Starting download for year 2021\n",
            "Filing URLs downloaded for 2021-01\n",
            "Filing URLs downloaded for 2021-02\n",
            "Filing URLs downloaded for 2021-03\n",
            "Filing URLs downloaded for 2021-04\n",
            "Filing URLs downloaded for 2021-05\n",
            "Filing URLs downloaded for 2021-06\n",
            "Filing URLs downloaded for 2021-07\n",
            "Filing URLs downloaded for 2021-08\n",
            "Filing URLs downloaded for 2021-09\n",
            "Filing URLs downloaded for 2021-10\n",
            "Filing URLs downloaded for 2021-11\n",
            "Filing URLs downloaded for 2021-12\n"
          ]
        }
      ],
      "source": [
        "# open the file we use to store the filing URLs\n",
        "log_file = open(\"filing_urls.txt\", \"a\")\n",
        "\n",
        "# start with filings filed in 2022, then 2020, 2019, ... up to 1995\n",
        "# uncomment next line to fetch all filings filed from 2022-1995\n",
        "# for year in range(2021, 1994, -1):\n",
        "for year in range(2022, 2020, -1):\n",
        "  print(\"Starting download for year {year}\".format(year=year))\n",
        "  \n",
        "  # a single search universe is represented as a month of the given year\n",
        "  for month in range(1, 13, 1):\n",
        "    # get 10-Q and 10-Q/A filings filed in year and month\n",
        "    # resulting query example: \"formType:\\\"10-Q\\\" AND filedAt:[2021-01-01 TO 2021-01-31]\"\n",
        "    universe_query = \\\n",
        "        \"formType:(\\\"10-K\\\", \\\"10-KT\\\", \\\"10KSB\\\", \\\"10KT405\\\", \\\"10KSB40\\\", \\\"10-K405\\\") AND \" + \\\n",
        "        \"filedAt:[{year}-{month:02d}-01 TO {year}-{month:02d}-31]\" \\\n",
        "        .format(year=year, month=month)\n",
        "  \n",
        "    # set new query universe for year-month combination\n",
        "    base_query[\"query\"][\"query_string\"][\"query\"] = universe_query;\n",
        "\n",
        "    # paginate through results by increasing \"from\" parameter \n",
        "    # until we don't find any matches anymore\n",
        "    # uncomment next line to fetch all 10,000 filings\n",
        "    # for from_batch in range(0, 9800, 200): \n",
        "    for from_batch in range(0, 400, 200):\n",
        "      # set new \"from\" starting position of search \n",
        "      base_query[\"from\"] = from_batch;\n",
        "\n",
        "      response = queryApi.get_filings(base_query)\n",
        "\n",
        "      # no more filings in search universe\n",
        "      if len(response[\"filings\"]) == 0:\n",
        "        break;\n",
        "\n",
        "      # for each filing, only save the URL pointing to the filing itself \n",
        "      # and ignore all other data. \n",
        "      # the URL is set in the dict key \"linkToFilingDetails\"\n",
        "      urls_list = list(map(lambda x: x[\"linkToFilingDetails\"], response[\"filings\"]))\n",
        "\n",
        "      # transform list of URLs into one string by joining all list elements\n",
        "      # and add a new-line character between each element.\n",
        "      urls_string = \"\\n\".join(urls_list) + \"\\n\"\n",
        "      \n",
        "      log_file.write(urls_string)\n",
        "\n",
        "    print(\"Filing URLs downloaded for {year}-{month:02d}\".format(year=year, month=month))\n",
        "\n",
        "log_file.close()\n",
        "\n",
        "print(\"All URLs downloaded\")"
      ]
    },
    {
      "cell_type": "markdown",
      "metadata": {
        "id": "OQoIe-xmz3Zz"
      },
      "source": [
        "# 2. Download all 10-Ks from SEC EDGAR\n",
        "\n",
        "The second component of our filing download application loads all 10-K URLs from our log file `filing_urls.txt` into memory, and downloads 20 filings in parallel into the folder `filings`.\n",
        "\n",
        "We use the Render API interface of the SEC-API Python package to download the filing by providing its URL. The Render API allows us to download up to 40 SEC filings per second in parallel. However, we don't utilize the full bandwidth of the API because otherwise it's very likely we end up with memory overflow exceptions (considering some filings are 400+ MB large).\n"
      ]
    },
    {
      "cell_type": "code",
      "execution_count": 16,
      "metadata": {
        "id": "-AwzLW8w3_qx"
      },
      "outputs": [],
      "source": [
        "from sec_api import RenderApi\n",
        "\n",
        "renderApi = RenderApi(api_key=\"YOUR_API_KEY\")"
      ]
    },
    {
      "cell_type": "markdown",
      "metadata": {
        "id": "Mm5T0gsFFJAF"
      },
      "source": [
        "The `download_filing` function downloads the filing from the URL, generates a file name using the last two parts of the URL and saves the downloaded file to the `filings` folder."
      ]
    },
    {
      "cell_type": "code",
      "execution_count": 43,
      "metadata": {
        "id": "AoKnv7v0quXI"
      },
      "outputs": [],
      "source": [
        "# download filing and save to \"filings\" folder\n",
        "def download_filing(url):\n",
        "  try:\n",
        "    filing = renderApi.get_filing(url)\n",
        "    # file_name example: 000156459019027952-msft-10k_20190630.htm\n",
        "    file_name = url.split(\"/\")[-2] + \"-\" + url.split(\"/\")[-1] \n",
        "    download_to = \"./filings/\" + file_name\n",
        "    with open(download_to, \"w\") as f:\n",
        "      f.write(filing)\n",
        "  except Exception as e:\n",
        "    print(\"Problem with {url}\".format(url=url))\n",
        "    print(e)"
      ]
    },
    {
      "cell_type": "markdown",
      "metadata": {
        "id": "sG6tmqJeFaDJ"
      },
      "source": [
        "The `load_urls` function reads the text content from the previously generated `filing_urls.txt` file, and creates a list of URLs by splitting the text content at each new line character (\"\\n\")."
      ]
    },
    {
      "cell_type": "code",
      "execution_count": 44,
      "metadata": {
        "id": "8gVYvxZa6DkG"
      },
      "outputs": [],
      "source": [
        "# load URLs from log file\n",
        "def load_urls():\n",
        "  log_file = open(\"filing_urls.txt\", \"r\")\n",
        "  urls = log_file.read().split(\"\\n\") # convert long string of URLs into a list \n",
        "  log_file.close()\n",
        "  return urls"
      ]
    },
    {
      "cell_type": "markdown",
      "metadata": {
        "id": "c2Cupje3D97W"
      },
      "source": [
        "The `download_all_filings` is the heart and soul of our application. Here, Python's inbuilt `multiprocessing.Pool` method allows us to apply a function to a list of values multiple times in parallel. This way we can apply the `download_filing` function to values of the `urls` list in parallel. \n",
        "\n",
        "For example, setting `number_of_processes` to 4 results in 4 `download_filing` functions running in parallel where each function processes one URL. Once a download is completed, `multiprocessing.Pool` gets the next URL from the URLs list and calls `download_filing` with the new URL.\n",
        "\n",
        "> We used 40 URLs (`urls = load_urls()[1:40]`) to quickly test the code without having to wait hours for the download to complete. Uncomment the line below to process all URLs. \n",
        "- `urls = load_urls()`\n",
        "\n"
      ]
    },
    {
      "cell_type": "code",
      "execution_count": 49,
      "metadata": {
        "id": "hh3OWmnj47S9"
      },
      "outputs": [],
      "source": [
        "import os\n",
        "import multiprocessing\n",
        "\n",
        "def download_all_filings():\n",
        "  print(\"Start downloading all filings\")\n",
        "\n",
        "  download_folder = \"./filings\" \n",
        "  if not os.path.isdir(download_folder):\n",
        "    os.makedirs(download_folder)\n",
        "    \n",
        "  # uncomment next line to process all URLs\n",
        "  # urls = load_urls()\n",
        "  urls = load_urls()[0:40]\n",
        "  print(\"{length} filing URLs loaded\".format(length=len(urls)))\n",
        "\n",
        "  number_of_processes = 20\n",
        "\n",
        "  with multiprocessing.Pool(number_of_processes) as pool:\n",
        "    pool.map(download_filing, urls)\n",
        "  \n",
        "  print(\"All filings downloaded\")"
      ]
    },
    {
      "cell_type": "code",
      "execution_count": 50,
      "metadata": {
        "colab": {
          "base_uri": "https://localhost:8080/"
        },
        "id": "YIaVEJ6e7oMV",
        "outputId": "05eaf5d3-501f-44cb-d757-33ae03a24a8f"
      },
      "outputs": [
        {
          "name": "stdout",
          "output_type": "stream",
          "text": [
            "Start downloading all filings\n",
            "40 filing URLs loaded\n",
            "All filings downloaded\n"
          ]
        }
      ],
      "source": [
        "download_all_filings()"
      ]
    }
  ],
  "metadata": {
    "colab": {
      "authorship_tag": "ABX9TyOGdmhyZOOY5RH2jvf8AmfT",
      "collapsed_sections": [],
      "include_colab_link": true,
      "provenance": []
    },
    "kernelspec": {
      "display_name": "Python 3",
      "name": "python3"
    },
    "language_info": {
      "name": "python"
    }
  },
  "nbformat": 4,
  "nbformat_minor": 0
}
