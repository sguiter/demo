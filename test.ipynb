{
 "cells": [
  {
   "cell_type": "code",
   "execution_count": 1,
   "id": "abab496e",
   "metadata": {},
   "outputs": [
    {
     "name": "stdout",
     "output_type": "stream",
     "text": [
      "Shares Outstanding: None\n"
     ]
    }
   ],
   "source": [
    "import requests\n",
    "\n",
    "FMP_API_KEY = \"your_real_api_key_here\"\n",
    "\n",
    "def get_shares_outstanding(ticker):\n",
    "    url = f\"https://financialmodelingprep.com/api/v4/shares_float/{ticker.upper()}?apikey={FMP_API_KEY}\"\n",
    "    response = requests.get(url)\n",
    "    if response.status_code == 200:\n",
    "        data = response.json()\n",
    "        if data:\n",
    "            return data[0]['outstandingShares']\n",
    "    return None\n",
    "\n",
    "# Example\n",
    "shares = get_shares_outstanding('AAPL')\n",
    "print(f\"Shares Outstanding: {shares}\")\n"
   ]
  }
 ],
 "metadata": {
  "kernelspec": {
   "display_name": ".venv",
   "language": "python",
   "name": "python3"
  },
  "language_info": {
   "codemirror_mode": {
    "name": "ipython",
    "version": 3
   },
   "file_extension": ".py",
   "mimetype": "text/x-python",
   "name": "python",
   "nbconvert_exporter": "python",
   "pygments_lexer": "ipython3",
   "version": "3.12.9"
  }
 },
 "nbformat": 4,
 "nbformat_minor": 5
}
